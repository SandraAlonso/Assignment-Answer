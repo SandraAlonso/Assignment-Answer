{
 "cells": [
  {
   "cell_type": "markdown",
   "metadata": {},
   "source": [
    "# Assignment 5 SPARQL queries\n",
    "\n",
    "I would like you to create the SPARQL query that will answer each of these questions.  Please submit the queries as a Jupyter notebook with the SPARQL kernel activated.  NO programming is required! Submit to GitHub as usual, WITH THE ANSWERS STILL VISIBLE IN THE NOTEBOOK.   Thanks!\n",
    "\n",
    "For many of these you will need to look-up how to use the SPARQL functions ‘COUNT’ and ‘DISTINCT’ (we used ‘distinct’ in class), and probably a few others...\n",
    "\n",
    "\n",
    "*UniProt SPARQL Endpoint:  http://sparql.uniprot.org/sparql*\n",
    "\n",
    "\n",
    "----------------------------------------------------------------"
   ]
  },
  {
   "cell_type": "markdown",
   "metadata": {},
   "source": [
    "### Q1: How many protein records are in UniProt? "
   ]
  },
  {
   "cell_type": "code",
   "execution_count": null,
   "metadata": {},
   "outputs": [],
   "source": [
    "PREFIX up:<http://purl.uniprot.org/core/> \n",
    "\n",
    "SELECT (STR(COUNT(?prot)) as ?prot_number) # Count every protein (with not repetition) and save as \"prot_number\"\n",
    "WHERE{ \n",
    "        ?prot a up:Protein\n",
    "}"
   ]
  },
  {
   "cell_type": "markdown",
   "metadata": {},
   "source": [
    "Result: prot_number\n",
    "\"360157660\"xsd:string"
   ]
  },
  {
   "cell_type": "markdown",
   "metadata": {},
   "source": [
    "### Q2: How many Arabidopsis thaliana protein records are in UniProt? \n"
   ]
  },
  {
   "cell_type": "code",
   "execution_count": null,
   "metadata": {},
   "outputs": [],
   "source": [
    "PREFIX taxon:<http://purl.uniprot.org/taxonomy/> \n",
    "PREFIX up:<http://purl.uniprot.org/core/> \n",
    "\n",
    "SELECT (COUNT(DISTINCT ?prot) AS ?count_arabidopsis_protein) #Count every protein (with no repetition) and save the result as \"count_arabidopsis_protein\"\n",
    "WHERE\n",
    "{\n",
    "        ?prot a up:Protein ; #Filter by protein records\n",
    "        up:organism taxon:3702 . #Filter by organism = Arabidopsis Thaliana (taxonid = 3702)\n",
    "}"
   ]
  },
  {
   "cell_type": "markdown",
   "metadata": {},
   "source": [
    "Result: count_arabidopsis_protein\n",
    "\"136782\"xsd:int"
   ]
  },
  {
   "cell_type": "markdown",
   "metadata": {},
   "source": [
    "### Q3: Retrieve pictures of Arabidopsis thaliana from UniProt? "
   ]
  },
  {
   "cell_type": "code",
   "execution_count": null,
   "metadata": {},
   "outputs": [],
   "source": [
    "PREFIX up:<http://purl.uniprot.org/core/> \n",
    "PREFIX foaf:<http://xmlns.com/foaf/0.1/>\n",
    "SELECT DISTINCT (?image AS ?photo) # Show the scientific name and images of all Arabidopsis Thaliana.\n",
    "WHERE {\n",
    "       ?taxon    foaf:depiction  ?image ; # Select the image\n",
    "           up:scientificName   ?name .\n",
    "       FILTER(CONTAINS(?name, \"Arabidopsis thaliana\")) # Select the names wich contains \"Arabidopsis Thaliana\"\n",
    "}"
   ]
  },
  {
   "cell_type": "markdown",
   "metadata": {},
   "source": [
    "Results for this query has been downloaded in csv format. See in result_query_3.csv."
   ]
  },
  {
   "cell_type": "markdown",
   "metadata": {},
   "source": [
    "### Q4: What is the description of the enzyme activity of UniProt Protein Q9SZZ8 "
   ]
  },
  {
   "cell_type": "code",
   "execution_count": null,
   "metadata": {},
   "outputs": [],
   "source": [
    "PREFIX up:<http://purl.uniprot.org/core/> \n",
    "PREFIX uniprot:<http://purl.uniprot.org/uniprot/> \n",
    "PREFIX rdfs:<http://www.w3.org/2000/01/rdf-schema#> \n",
    "PREFIX label:<http://www.w3.org/2004/02/skos/core#>\n",
    "\n",
    "SELECT ?activity_description\n",
    "WHERE {\n",
    "  uniprot:Q9SZZ8 up:enzyme ?enzyme . #Search for the id of the proteine\n",
    "  ?enzyme up:activity ?activity .\n",
    "  ?activity rdfs:label ?activity_description #Taje only the activity description (column description)\n",
    "}"
   ]
  },
  {
   "cell_type": "markdown",
   "metadata": {},
   "source": [
    "Result: activityDescription\n",
    "\"Beta-carotene + 4 reduced ferredoxin [iron-sulfur] cluster + 2 H(+) + 2 O(2) = zeaxanthin + 4 oxidized ferredoxin [iron-sulfur] cluster + 2 H(2)O.\"xsd:string"
   ]
  },
  {
   "cell_type": "markdown",
   "metadata": {},
   "source": [
    "### Q5: Retrieve the proteins ids, and date of submission, for proteins that have been added to UniProt this year   (HINT Google for “SPARQL FILTER by date”)"
   ]
  },
  {
   "cell_type": "code",
   "execution_count": null,
   "metadata": {},
   "outputs": [],
   "source": [
    "PREFIX up:<http://purl.uniprot.org/core/> \n",
    "PREFIX uniprot:<http://purl.uniprot.org/uniprot/> \n",
    "\n",
    "SELECT ?id ?date \n",
    "WHERE\n",
    "{\n",
    "  ?protein a up:Protein ; # Select ids and date of creation of the entry (submission date)\n",
    "           up:mnemonic ?id ;\n",
    "           up:created ?date .\n",
    "\n",
    "  FILTER (contains(STR(?date), \"2021\")) # Filter and select only the ones which contains \"2021\" (current year)\n",
    "}"
   ]
  },
  {
   "cell_type": "markdown",
   "metadata": {},
   "source": [
    "Results for this query were extremely long and could not be downloaded. Instead, I took a screenshot of the first page results (result_query_5.png)."
   ]
  },
  {
   "cell_type": "markdown",
   "metadata": {},
   "source": [
    "### Q6: How  many species are in the UniProt taxonomy?"
   ]
  },
  {
   "cell_type": "code",
   "execution_count": null,
   "metadata": {},
   "outputs": [],
   "source": [
    "PREFIX taxon:<http://purl.uniprot.org/taxonomy/> \n",
    "PREFIX up:<http://purl.uniprot.org/core/> \n",
    "\n",
    "SELECT (COUNT(DISTINCT ?taxon) AS ?different_species) # Count different species and save as \"different_species\"\n",
    "WHERE\n",
    "{\n",
    "  ?taxon a up:Taxon ;\n",
    "           up:rank up:Species . # Look in taxon the different species contained\n",
    "}\n",
    "\n",
    "# Reference: https://www.vedantu.com/question-answer/differentiate-between-species-and-taxon-class-11-biology-cbse-5fcef165bd52b90ffc9d9e9d\n",
    "# Difference between taxon and specie:\n",
    "# As taxon is part of the taxonomic category it is constructed by individual biological objects. -Species contains a group of individuals with same morphological characters and they can breed among themselves whereas taxon is a group of one or more population of an organism in taxonomical form."
   ]
  },
  {
   "cell_type": "markdown",
   "metadata": {},
   "source": [
    "\n",
    "differentSpecies\n",
    "\"2029846\"xsd:int"
   ]
  },
  {
   "cell_type": "markdown",
   "metadata": {},
   "source": [
    "### Q7: How many species have at least one protein record? "
   ]
  },
  {
   "cell_type": "code",
   "execution_count": null,
   "metadata": {},
   "outputs": [],
   "source": [
    "PREFIX uniprot: <http://purl.uniprot.org/core/>\n",
    "PREFIX taxon: <http://purl.uniprot.org/taxonomy/>\n",
    "PREFIX up:<http://purl.uniprot.org/core/> \n",
    "\n",
    "SELECT (COUNT (DISTINCT ?protein_organism) AS ?num_protein_records) # Count without repetition the species with protein records\n",
    "WHERE\n",
    "{\n",
    "    ?protein rdf:type up:Protein ; # Select protein type\n",
    "            up:organism ?protein_organism . # Select organisims\n",
    "    ?protein_organism up:rank up:Species . # Count different species\n",
    "}"
   ]
  },
  {
   "cell_type": "markdown",
   "metadata": {},
   "source": [
    "Result: \n",
    "num_protein_records\n",
    "\"1057158\"xsd:int"
   ]
  },
  {
   "cell_type": "markdown",
   "metadata": {},
   "source": [
    "### Q8: Find the AGI codes and gene names for all Arabidopsis thaliana  proteins that have a protein function annotation description that mentions “pattern formation”"
   ]
  },
  {
   "cell_type": "code",
   "execution_count": null,
   "metadata": {},
   "outputs": [],
   "source": [
    "PREFIX skos:<http://www.w3.org/2004/02/skos/core#> \n",
    "PREFIX up:<http://purl.uniprot.org/core/> \n",
    "PREFIX taxon:<http://purl.uniprot.org/taxonomy/> \n",
    "PREFIX rdfs:<http://www.w3.org/2000/01/rdf-schema#> \n",
    "\n",
    "SELECT ?agi_code ?name\n",
    "WHERE{ \n",
    "  ?protein a up:Protein ;\t\t\t  # Searching for protein \n",
    "  \t\t\t up:organism taxon:3702 ; # Arabidopsis Tahliana organisms\n",
    "  \t\t\t up:annotation ?annotation ; # Use annotation function below\n",
    "  \t\t\t up:encodedBy ?gene. # Select the gene\n",
    "\n",
    "  ?gene up:locusName ?agi_code ; \n",
    "        skos:prefLabel ?name . # Select the AGI cide and the gene name of the name\n",
    "  \n",
    "  ?annotation a up:Function_Annotation ; # Use annoation function for geting descriptions\n",
    "      rdfs:comment ?annot_comment.\n",
    "        \n",
    "  FILTER CONTAINS(str(?annot_comment), 'pattern formation') . # Select only description that mentions \"pattern formation\"\n",
    "}"
   ]
  },
  {
   "cell_type": "markdown",
   "metadata": {},
   "source": [
    "Results for this query has been downloaded in csv format. See in result_query_8.csv."
   ]
  },
  {
   "cell_type": "markdown",
   "metadata": {},
   "source": [
    "# MetaNetX\n",
    "From the MetaNetX metabolic networks for metagenomics database SPARQL Endpoint: https://rdf.metanetx.org/sparql\n",
    "\n",
    "(this slide deck will make it much easier for you!  https://www.metanetx.org/cgi-bin/mnxget/mnxref/MetaNetX_RDF_schema.pdf)"
   ]
  },
  {
   "cell_type": "markdown",
   "metadata": {},
   "source": [
    "### Q9: What is the MetaNetX Reaction identifier (starts with “mnxr”) for the UniProt Protein uniprotkb:Q18A79"
   ]
  },
  {
   "cell_type": "code",
   "execution_count": null,
   "metadata": {},
   "outputs": [],
   "source": [
    "PREFIX uniprot: <http://purl.uniprot.org/core/>\n",
    "PREFIX taxon: <http://purl.uniprot.org/taxonomy/>\n",
    "PREFIX foaf: <http://xmlns.com/foaf/0.1/>\n",
    "PREFIX uniprotkb: <http://purl.uniprot.org/uniprot/>\n",
    "PREFIX rdfs: <http://www.w3.org/2000/01/rdf-schema#>\n",
    "PREFIX xsd: <http://www.w3.org/2001/XMLSchema#>\n",
    "PREFIX mnx:<https://rdf.metanetx.org/schema/>\n",
    "\n",
    "SELECT DISTINCT ?MetaNetX_reaction_identifiers\n",
    "\n",
    "where {\n",
    "        ?polypeptide a mnx:PEPT ; # Select node mnx:PEPT (A gene or gene product)\n",
    "            mnx:peptRefer uniprotkb:Q18A79 . # The corresponding UniProt identifiers are recovered at MetaNetX, when possible \n",
    "                                             # In this case we are using \"mnx:peptRefer\" which is \"Q18A79\"\n",
    "        ?catalyst a mnx:CATA ;      # Once we have the polypeptide, we search for the catalyst and complex description.   \n",
    "            mnx:pept ?polypeptide . # This node is mnx:CATA and is join to mnx:PEPT by mnx:peptRefer\n",
    "        ?gpr a mnx:GPR ; # mnx:GPR node (Gene-Protein-Reaction) is A particular reaction with zero, one, or several catalysts, in the context of a particular GSMN\n",
    "            mnx:cata ?catalyst ;      # Therefore we use the catalyst selected before for filtering \n",
    "            mnx:reac ?reactions .     # and select the reaction by mnx:reac\n",
    "        ?reactions a mnx:REAC ;        # Once we know the raction we need to search its id\n",
    "            rdfs:label  ?MetaNetX_reaction_identifiers . # An option is consulting its label\n",
    "\n",
    "}"
   ]
  },
  {
   "cell_type": "markdown",
   "metadata": {},
   "source": [
    "Result:\n",
    "\n",
    "| MetaNetX_reaction_identifiers | \n",
    "| -- | \n",
    "| mnxr165934 | \n",
    "| mnxr145046c3 | \n"
   ]
  },
  {
   "cell_type": "markdown",
   "metadata": {},
   "source": [
    "# FEDERATED QUERY - UniProt and MetaNetX"
   ]
  },
  {
   "cell_type": "markdown",
   "metadata": {},
   "source": [
    "### Q10: What is the official Gene ID (UniProt calls this a “mnemonic”) and the MetaNetX Reaction identifier (mnxr…..) for the protein that has “Starch synthase” catalytic activity in Clostridium difficile (taxon 272563)."
   ]
  },
  {
   "cell_type": "code",
   "execution_count": null,
   "metadata": {},
   "outputs": [],
   "source": [
    "PREFIX uniprot: <http://purl.uniprot.org/core/>\n",
    "PREFIX taxon: <http://purl.uniprot.org/taxonomy/>\n",
    "PREFIX foaf: <http://xmlns.com/foaf/0.1/>\n",
    "PREFIX uniprotkb: <http://purl.uniprot.org/uniprot/>\n",
    "PREFIX rdfs: <http://www.w3.org/2000/01/rdf-schema#>\n",
    "PREFIX xsd: <http://www.w3.org/2001/XMLSchema#>\n",
    "PREFIX mnx:<https://rdf.metanetx.org/schema/>\n",
    "\n",
    "# In this query we will need to use two services (http://sparql.uniprot.org/sparql and https://rdf.metanetx.org/sparq)\n",
    "# For this task I used the format seen in different webs \n",
    "# References (https://stackoverflow.com/questions/35260421/sparql-query-using-multiple-datasources\n",
    "#             and https://www.w3.org/TR/sparql11-federated-query/)\n",
    "\n",
    "SELECT DISTINCT ?gene_id ?MetaNetX_reaction_identifiers # Variables we need to show as result of the different queries\n",
    "WHERE {\n",
    "    SERVICE <http://sparql.uniprot.org/sparql> { # First service (uniprot)\n",
    "         select distinct ?prot ?gene_id         # In this query we need to store the prot (for using in the next query as parameter) and the gene id for showing as result\n",
    "         where {\n",
    "            ?prot a uniprot:Protein ;           # We access to Protein\n",
    "                uniprot:organism taxon:272563 ; # And look for the taxon given\n",
    "                uniprot:enzyme ?enz ;           # As we need to look for an special enzyme of the protein (Starch synthase)\n",
    "                uniprot:mnemonic ?gene_id .     # Store gene id\n",
    "\n",
    "            ?enz rdfs:comment ?name .           # Look for the enzyme starch synthase\n",
    "            FILTER regex(?name, \"starch synthase\") \n",
    "         }\n",
    "    }\n",
    "     SERVICE <https://rdf.metanetx.org/sparql> {\n",
    "         OPTIONAL {     # Every added query is considered a nested service and must be inside OPTIONAL clause\n",
    "            # Reusing code from query 9\n",
    "             ?polypeptide a mnx:PEPT ;\n",
    "                mnx:peptRefer ?prot . # In this case we obtained mnx:peptRefer from uniprot before\n",
    "             ?catalyst a mnx:CATA ;\n",
    "                mnx:pept ?polypeptide .\n",
    "             ?gpr a mnx:GPR ;\n",
    "                mnx:cata ?catalyst ;\n",
    "                mnx:reac ?reactions .\n",
    "             ?reactions a mnx:REAC ;\n",
    "                rdfs:label  ?MetaNetX_reaction_identifiers.\n",
    "            }\n",
    "     }\n",
    "} \n"
   ]
  },
  {
   "cell_type": "markdown",
   "metadata": {},
   "source": [
    "Result:\n",
    "| gene_id | MetaNetX_reaction_identifiers | \n",
    "| -- | -- |\n",
    "| \"GLGA_CLOD6\" | \"mnxr165934\" |\n",
    "| \"GLGA_CLOD6\" | \"mnxr145046c3\" |"
   ]
  }
 ],
 "metadata": {
  "interpreter": {
   "hash": "260f7526dd70ce5772422b2315019544c135d8a5e5fc89617f90163aa01a6316"
  },
  "kernelspec": {
   "display_name": "Python 3.9.9 64-bit (windows store)",
   "language": "python",
   "name": "python3"
  },
  "language_info": {
   "name": "python",
   "version": "3.9.9"
  },
  "orig_nbformat": 4
 },
 "nbformat": 4,
 "nbformat_minor": 2
}
